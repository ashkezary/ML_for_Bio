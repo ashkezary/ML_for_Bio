{
 "cells": [
  {
   "cell_type": "markdown",
   "metadata": {},
   "source": [
    "# Deciding the Disease\n",
    "\n",
    "In a hospital in geland, decision tree should be used to find out the causes of a genetic disease. In this hospital, 800 samples gathered: 600 as train data and other 200 as test data. Some of samples are really sick but others are healthy. To study the disease, these features have been used: Race, Gender, 20 special mutations. "
   ]
  },
  {
   "cell_type": "code",
   "execution_count": 1,
   "metadata": {},
   "outputs": [],
   "source": [
    "#Required Libraries\n",
    "import pandas as pd\n",
    "import numpy as np\n",
    "from numpy.ma import log2, mean\n",
    "import matplotlib.pyplot as plt"
   ]
  },
  {
   "cell_type": "code",
   "execution_count": 2,
   "metadata": {},
   "outputs": [],
   "source": [
    "#a function to xor two arrays\n",
    "def xor(v1,v2):\n",
    "    v=[]\n",
    "    inx = v1.index\n",
    "    for i in range(len(v2)):\n",
    "        if v1[inx[i]]==v2[inx[i]]:v.append(1)\n",
    "        else: v.append(0)\n",
    "    return v\n",
    "\n",
    "#a function to operate \"not\" on an array.\n",
    "def bar(v1):\n",
    "    v =[]\n",
    "    inx = v1.index\n",
    "    for i in range(len(v1)):\n",
    "        if v1[inx[i]]==1:\n",
    "            v.append(0)\n",
    "        else:\n",
    "            v.append(1)\n",
    "    return v"
   ]
  },
  {
   "cell_type": "code",
   "execution_count": 3,
   "metadata": {},
   "outputs": [],
   "source": [
    "#Entropy\n",
    "def entropy(par):\n",
    "    p = np.dot(par,np.ones(len(par)))/ len(par)\n",
    "    return -(p*log2(p)+(1-p)*log2(1-p))\n",
    "\n",
    "#Information Gain\n",
    "def IGain(f, par1,par2):\n",
    "    ig = entropy(f) - (len(par1)/len(f))*entropy(par1) - (len(par2)/len(f))*entropy(par2)\n",
    "    return ig"
   ]
  },
  {
   "cell_type": "code",
   "execution_count": 4,
   "metadata": {},
   "outputs": [],
   "source": [
    "#Data cleaning function (after a number of attempts)\n",
    "#To have a more understandable code, this part was separated.\n",
    "def cleaning(df):\n",
    "    gen = df['Gender']\n",
    "    df['Gender'] = np.where(gen.str.contains('F'),'female',np.where(gen.str.contains('M'), 'male',gen.str.replace('-', ' ')))\n",
    "    df['Gender'] = np.where(gen.str.contains('female'),0,np.where(gen.str.contains('male'), 1,gen.str.replace('-', ' ')))\n",
    "    race = df['Race']\n",
    "    df['Race'] = np.where(race.str.contains('asi'),'Asian',race.str.replace('-', ' '))\n",
    "\n",
    "    features = ['M1','M2','M3','M4','M5','M6','M7','M8','M9','M10','M11','M12','M13','M14','M15','M16','M17','M18','M19','M20']\n",
    "    for i in features:\n",
    "        df[i] = np.where(df[i].str.contains('Tr'), 1 , np.where(df[i].str.contains('T'), 1,\n",
    "                                                                 np.where(df[i].str.contains('als'), 0,\n",
    "                                                                          np.where(df[i].str.contains('F'), 0,\n",
    "                                                                                   df[i].str.replace('-', ' ')))))\n",
    "        df[i] = pd.to_numeric(df[i])\n",
    "    features.append('Gender')\n",
    "    # write a func\n",
    "    American = (df['Race']=='American')\n",
    "    df['American'] = American\n",
    "    df['American'] = df['American'] + np.zeros(len(df.index))\n",
    "    African = (df['Race']=='African')\n",
    "    df['African'] = African\n",
    "    df['African'] = df['African'] + np.zeros(len(df.index))\n",
    "    European = (df['Race']=='European')\n",
    "    df['European'] = European\n",
    "    df['European'] = df['European'] + np.zeros(len(df.index))\n",
    "    Asian = (df['Race']=='Asian')\n",
    "    df['Asian'] = Asian\n",
    "    df['Asian'] = df['Asian'] + np.zeros(len(df.index))\n",
    "    del df['Race']\n"
   ]
  },
  {
   "cell_type": "code",
   "execution_count": 5,
   "metadata": {},
   "outputs": [],
   "source": [
    "#Learning Function\n",
    "#To report precision, sensitivity and specificity\n",
    "def learn(df,final_features,dep,bool):\n",
    "    depth = dep\n",
    "    size = len(df.index)\n",
    "    features = []\n",
    "    precision = 0\n",
    "    pres = []\n",
    "    sensitivity = []\n",
    "    sens = 0\n",
    "    sens_size=0\n",
    "    specificity = []\n",
    "    spec = 0\n",
    "    spec_size=0\n",
    "    for d in range(depth):\n",
    "        #Learn\n",
    "        sens_size += np.dot(df[final_features[d]],df['tag'])+np.dot(df[final_features[d]],bar(df['tag']))\n",
    "        spec_size += np.dot(bar(df[final_features[d]]),bar(df['tag']))+np.dot(bar(df[final_features[d]]),df['tag'])\n",
    "        features.append(final_features[d])\n",
    "        sens += np.dot(df[final_features[d]],df['tag'])/sens_size\n",
    "        sensitivity.append(sens)\n",
    "        spec += np.dot(bar(df[final_features[d]]),bar(df['tag']))/spec_size\n",
    "        specificity.append(spec)\n",
    "        new_trues = xor(df[final_features[d]], df['tag'])\n",
    "        precision += np.dot(new_trues,new_trues)/size\n",
    "        df = df[df[final_features[d]]!= df['tag']]\n",
    "        pres.append(precision)\n",
    "        if len(df.index)==0:break\n",
    "    if bool:\n",
    "        return d,pres,features\n",
    "    else:\n",
    "        return sensitivity,specificity\n"
   ]
  },
  {
   "cell_type": "code",
   "execution_count": 7,
   "metadata": {},
   "outputs": [],
   "source": [
    "#Read the train data and clean it\n",
    "df = pd.read_csv(\"E:/Mohammad/CS/Machine Learning/Practical/dataset/Train.txt\", sep='\\t')\n",
    "features = ['M1','M2','M3','M4','M5','M6','M7','M8','M9','M10','M11','M12','M13','M14','M15','M16','M17','M18','M19','M20']\n",
    "cleaning(df)\n",
    "features.extend(['American','European','African','Asian'])"
   ]
  },
  {
   "cell_type": "code",
   "execution_count": 8,
   "metadata": {},
   "outputs": [],
   "source": [
    "#Read the test data and clean it\n",
    "test = pd.read_csv(\"E:/Mohammad/CS/Machine Learning/Practical/dataset/Test.txt\", sep='\\t')\n",
    "cleaning(test)"
   ]
  },
  {
   "cell_type": "code",
   "execution_count": 9,
   "metadata": {},
   "outputs": [
    {
     "name": "stdout",
     "output_type": "stream",
     "text": [
      "  Gender  M1  M2  M3  M4  M5  M6  M7  M8  M9  ...  M16  M17  M18  M19  M20  \\\n",
      "0      0   0   0   1   1   0   0   1   1   0  ...    0    0    0    0    0   \n",
      "1      0   1   0   1   1   0   0   0   0   1  ...    0    1    0    0    0   \n",
      "2      0   1   1   0   0   1   0   0   1   0  ...    1    0    1    1    0   \n",
      "3      0   1   0   0   0   1   0   1   1   1  ...    1    1    0    0    1   \n",
      "4      0   0   1   0   0   0   0   0   0   0  ...    1    1    0    0    1   \n",
      "\n",
      "     tag  American  African  European  Asian  \n",
      "0  False       1.0      0.0       0.0    0.0  \n",
      "1   True       1.0      0.0       0.0    0.0  \n",
      "2   True       1.0      0.0       0.0    0.0  \n",
      "3   True       0.0      1.0       0.0    0.0  \n",
      "4  False       0.0      0.0       1.0    0.0  \n",
      "\n",
      "[5 rows x 26 columns]\n"
     ]
    }
   ],
   "source": [
    "#To depict head of dataframe (train data)\n",
    "print(df.head())"
   ]
  },
  {
   "cell_type": "code",
   "execution_count": 10,
   "metadata": {},
   "outputs": [
    {
     "data": {
      "image/png": "[encoded data removed]",
      "text/plain": [
       "<Figure size 432x288 with 1 Axes>"
      ]
     },
     "metadata": {
      "needs_background": "light"
     },
     "output_type": "display_data"
    }
   ],
   "source": [
    "freq = df.drop(['tag'],1).apply(np.sum,0)\n",
    "plt.plot(freq,'bs')\n",
    "plt.ylabel('frequency')\n",
    "plt.show()"
   ]
  },
  {
   "cell_type": "code",
   "execution_count": 11,
   "metadata": {},
   "outputs": [
    {
     "data": {
      "image/png": "[encoded data removed]",
      "text/plain": [
       "<Figure size 432x288 with 1 Axes>"
      ]
     },
     "metadata": {
      "needs_background": "light"
     },
     "output_type": "display_data"
    }
   ],
   "source": [
    "effect = np.array([0.0])\n",
    "for i in features:\n",
    "    effect = np.insert(effect,-1,np.dot(df[i],df['tag'])/np.dot(df[i],df[i]))\n",
    "plt.plot(features,np.delete(effect,0))\n",
    "plt.ylabel('effect')\n",
    "plt.show()"
   ]
  },
  {
   "cell_type": "markdown",
   "metadata": {},
   "source": [
    "## Next Step: Feature Selection\n",
    "\n",
    "Best features will be gathered in a list from the best to the worst."
   ]
  },
  {
   "cell_type": "code",
   "execution_count": 12,
   "metadata": {},
   "outputs": [
    {
     "name": "stdout",
     "output_type": "stream",
     "text": [
      "['Asian', 'American', 'M13', 'African', 'M19', 'M18', 'M8', 'M9', 'M20', 'M4', 'M7', 'M14', 'M15', 'M5', 'M17', 'M3', 'M10', 'M12', 'M6', 'M2', 'M16', 'M1', 'European', 'M11']\n"
     ]
    }
   ],
   "source": [
    "# Feature Selection\n",
    "depth = 22\n",
    "final_features = []\n",
    "while(len(features) > 0):\n",
    "    score = {}\n",
    "    maks = 0\n",
    "    for f in features:\n",
    "        con1 = ((df[f] == 1) == df['tag'])\n",
    "        ext1 = np.extract(con1,df[f])\n",
    "        con2 = ((df[f] == 1) != df['tag'])\n",
    "        ext2 = np.extract(con2,df[f])\n",
    "        score[f] = IGain(df[f],ext1,ext2)\n",
    "        if score[f]>maks:\n",
    "            maks = score[f]\n",
    "    choosed = list(score.keys())[list(score.values()).index(maks)]\n",
    "    # plt.bar(range(len(score)), list(score.values()), align='center')\n",
    "    # plt.xticks(range(len(score)), list(score.keys()))\n",
    "    # plt.show()\n",
    "    final_features.append(choosed)\n",
    "    features.remove(choosed)\n",
    "\n",
    "print(final_features)"
   ]
  },
  {
   "cell_type": "markdown",
   "metadata": {},
   "source": [
    "## Now the machine learns!"
   ]
  },
  {
   "cell_type": "code",
   "execution_count": 13,
   "metadata": {},
   "outputs": [
    {
     "data": {
      "image/png": "[encoded data removed]",
      "text/plain": [
       "<Figure size 432x288 with 1 Axes>"
      ]
     },
     "metadata": {
      "needs_background": "light"
     },
     "output_type": "display_data"
    }
   ],
   "source": [
    "#Learning in different depths(1-22) on train data\n",
    "d, pres,features = learn(df,final_features,22,1)\n",
    "plt.plot(pres,'g^')\n",
    "plt.show()"
   ]
  },
  {
   "cell_type": "code",
   "execution_count": 14,
   "metadata": {},
   "outputs": [
    {
     "data": {
      "image/png": "[encoded data removed]",
      "text/plain": [
       "<Figure size 432x288 with 1 Axes>"
      ]
     },
     "metadata": {
      "needs_background": "light"
     },
     "output_type": "display_data"
    }
   ],
   "source": [
    "#Learing in different depth(1-22) on test data\n",
    "d,pres,features = learn(test,features,22,1)\n",
    "plt.plot(pres,'bs')\n",
    "plt.show()"
   ]
  },
  {
   "cell_type": "code",
   "execution_count": 15,
   "metadata": {},
   "outputs": [
    {
     "data": {
      "image/png": "[encoded data removed]",
      "text/plain": [
       "<Figure size 432x288 with 1 Axes>"
      ]
     },
     "metadata": {
      "needs_background": "light"
     },
     "output_type": "display_data"
    }
   ],
   "source": [
    "#Learning with 5-fold cross validation\n",
    "fd = df\n",
    "f1 = df[0:120]\n",
    "f2 = df[120:240]\n",
    "f3 = df[240:360]\n",
    "f4 = df[360:480]\n",
    "f5 = df[480:600]\n",
    "\n",
    "d1,pres1,features1 = learn(f1,final_features,22,1)\n",
    "plt.plot(pres1,'bs')\n",
    "\n",
    "d2,pres2,features2 = learn(f2,final_features,22,1)\n",
    "plt.plot(pres2,'g^')\n",
    "\n",
    "d3,pres3,features3 = learn(f3,final_features,22,1)\n",
    "plt.plot(pres3,'o-')\n",
    "\n",
    "d4,pres4,features4 = learn(f4,final_features,22,1)\n",
    "plt.plot(pres4,'ro')\n",
    "\n",
    "d5,pres5,features5 = learn(f5,final_features,22,1)\n",
    "plt.plot(pres5,'b')\n",
    "plt.show()"
   ]
  },
  {
   "cell_type": "code",
   "execution_count": 16,
   "metadata": {},
   "outputs": [
    {
     "data": {
      "image/png": "[encoded data removed]",
      "text/plain": [
       "<Figure size 432x288 with 1 Axes>"
      ]
     },
     "metadata": {
      "needs_background": "light"
     },
     "output_type": "display_data"
    }
   ],
   "source": [
    "#Learn with the best depth and report sensitivity/specificity\n",
    "df = fd\n",
    "sens,spec = learn(fd,final_features,6,0)\n",
    "plt.plot(sens,'go')\n",
    "plt.plot(spec,'ro')\n",
    "plt.show()"
   ]
  }
 ],
 "metadata": {
  "kernelspec": {
   "display_name": "Python 3",
   "language": "python",
   "name": "python3"
  },
  "language_info": {
   "codemirror_mode": {
    "name": "ipython",
    "version": 3
   },
   "file_extension": ".py",
   "mimetype": "text/x-python",
   "name": "python",
   "nbconvert_exporter": "python",
   "pygments_lexer": "ipython3",
   "version": "3.7.4"
  }
 },
 "nbformat": 4,
 "nbformat_minor": 2
}
