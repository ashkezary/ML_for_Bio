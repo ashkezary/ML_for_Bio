{
 "cells": [
  {
   "cell_type": "markdown",
   "metadata": {
    "toc-hr-collapsed": false
   },
   "source": [
    "# CE-40550 Machine Learning for Bioinformatics (25 points)\n",
    "## Deadline: 9th Ordibehesht\n",
    "Predicting protein secondary structure is a fundamental problem in bioinformatics. \n",
    "In this homework we are going to predict local secondary structure with deep\n",
    "hierarchical representations. We are going to use tf.keras API in order to complete the tasks. Please read the [documentation](https://www.tensorflow.org/guide/keras) carefully before you proceed."
   ]
  },
  {
   "cell_type": "code",
   "execution_count": 1,
   "metadata": {
    "scrolled": true
   },
   "outputs": [],
   "source": [
    "# importing modules\n",
    "import matplotlib.pyplot as plt\n",
    "from sklearn.model_selection import train_test_split\n",
    "import numpy as np\n",
    "import tensorflow as tf\n",
    "from tensorflow import keras"
   ]
  },
  {
   "cell_type": "code",
   "execution_count": 10,
   "metadata": {},
   "outputs": [],
   "source": [
    "from tensorflow.keras import optimizers\n",
    "from tensorflow.keras.layers import Dense, Dropout, BatchNormalization\n",
    "from tensorflow.keras.layers import MaxPooling1D\n",
    "from tensorflow.keras.layers import Conv1D"
   ]
  },
  {
   "cell_type": "markdown",
   "metadata": {
    "toc-hr-collapsed": false
   },
   "source": [
    "## Data Description and Preprocessing\n",
    "\n",
    "You can download the dataset from [here](https://www.princeton.edu/~jzthree/datasets/ICML2014/cullpdb+profile_6133.npy.gz). This dataset consists of 6133 protein samples. Each protein contains at most 700 amino acids. Each amino acid has 57 features in one-hot encoding scheme. In this homework we are going to predict secondary structure labels for each amino acid from amino acid sequences. For additional information you can visit [this](https://www.princeton.edu/~jzthree/datasets/ICML2014/dataset_readme.txt) page.\n",
    "We have shuffled the data and took 10% of it for this homework and it is given to you as `X.npy` and `Y.npy`"
   ]
  },
  {
   "cell_type": "markdown",
   "metadata": {},
   "source": [
    "### Load Data \n",
    "download the data.zip and extract it into a folder named data."
   ]
  },
  {
   "cell_type": "code",
   "execution_count": 38,
   "metadata": {},
   "outputs": [],
   "source": [
    "# load data\n",
    "X = np.load('E:\\Mohammad\\CS\\Machine Learning\\Practical\\data\\X.npy')\n",
    "Y = np.load('E:\\Mohammad\\CS\\Machine Learning\\Practical\\data\\Y.npy')\n",
    "# we take 15% of the data as test and the rest as train\n",
    "X_train, X_test, Y_train, Y_test = train_test_split(X, Y, test_size=0.15)"
   ]
  },
  {
   "cell_type": "code",
   "execution_count": 4,
   "metadata": {},
   "outputs": [
    {
     "name": "stdout",
     "output_type": "stream",
     "text": [
      "(100838, 15, 21)\n",
      "(100838, 8)\n",
      "(17796, 15, 21)\n",
      "(17796, 8)\n"
     ]
    }
   ],
   "source": [
    "# check the shape of train and test data\n",
    "print(X_train.shape)\n",
    "print(Y_train.shape)\n",
    "print(X_test.shape)\n",
    "print(Y_test.shape)"
   ]
  },
  {
   "cell_type": "code",
   "execution_count": 33,
   "metadata": {},
   "outputs": [
    {
     "data": {
      "text/plain": [
       "(10000, 15, 21)"
      ]
     },
     "execution_count": 33,
     "metadata": {},
     "output_type": "execute_result"
    }
   ],
   "source": [
    "X_train[:10000].shape"
   ]
  },
  {
   "cell_type": "markdown",
   "metadata": {},
   "source": [
    "## Building a model\n",
    "\n",
    "In your first assingment you are going to build a (1D) convolutional network with the following structure:  \n",
    "32 * CONV3 -> 32 * CONV3 -> MAX-POOL2 ->  \n",
    "64 * CONV3 -> 64 * CONV3 -> MAX-POOL2 ->  \n",
    "128 * CONV3 -> 128 * CONV3 -> MAX-POOL2 ->  \n",
    "FLATTEN -> DENSE(64) -> DENSE(8)  \n",
    "All convolution and pooling layers are 1-dimensional. Set the stride of pooling layers to 2. Set the kernel size of pooling layers to 2. All convolutional layers have the kernel size = 3. Use RELU activation function for the network. Set the padding of conv and pool layers to same. Initialize all kernel weights with glorot uniform initializer."
   ]
  },
  {
   "cell_type": "code",
   "execution_count": 14,
   "metadata": {},
   "outputs": [],
   "source": [
    "# model = tf.keras.Sequential()\n",
    "############################################################\n",
    "# TODO: Build the model described above                    #\n",
    "############################################################\n",
    "m = keras.Sequential()\n",
    "\n",
    "#Initialize all layers\n",
    "m.add(Conv1D(filters = 32,kernel_size = 3, padding='same',kernel_initializer=\"glorot_uniform\", activation='relu',input_shape=(15,21)))\n",
    "# m.add(BatchNormalization())\n",
    "# m.add(Dropout(drop_out))\n",
    "m.add(Conv1D(32, 3, padding='same',kernel_initializer=\"glorot_uniform\", activation='relu'))\n",
    "# m.add(BatchNormalization())\n",
    "# m.add(Dropout(drop_out))\n",
    "m.add(MaxPooling1D(pool_size=2, strides=2, padding=\"same\"))\n",
    "\n",
    "m.add(Conv1D(filters = 64,kernel_size = 3, padding='same',kernel_initializer=\"glorot_uniform\", activation='relu'))\n",
    "m.add(Conv1D(64, 3, padding='same',kernel_initializer=\"glorot_uniform\", activation='relu'))\n",
    "m.add(MaxPooling1D(pool_size=2, strides=2, padding=\"same\"))\n",
    "m.add(Conv1D(filters = 128,kernel_size = 3, padding='same',kernel_initializer=\"glorot_uniform\", activation='relu'))\n",
    "m.add(Conv1D(128, 3, padding='same',kernel_initializer=\"glorot_uniform\", activation='relu'))\n",
    "m.add(MaxPooling1D(pool_size=2, strides=2, padding=\"same\"))\n",
    "m.add(keras.layers.Flatten())\n",
    "m.add(Dense(64,kernel_initializer=\"glorot_uniform\", activation = 'relu'))\n",
    "m.add(Dense(8,kernel_initializer=\"glorot_uniform\", activation = 'softmax'))\n",
    "############################################################\n",
    "#                     End of your code                     #\n",
    "############################################################"
   ]
  },
  {
   "cell_type": "code",
   "execution_count": 15,
   "metadata": {},
   "outputs": [
    {
     "name": "stdout",
     "output_type": "stream",
     "text": [
      "Model: \"sequential_2\"\n",
      "_________________________________________________________________\n",
      "Layer (type)                 Output Shape              Param #   \n",
      "=================================================================\n",
      "conv1d_7 (Conv1D)            (None, 15, 32)            2048      \n",
      "_________________________________________________________________\n",
      "conv1d_8 (Conv1D)            (None, 15, 32)            3104      \n",
      "_________________________________________________________________\n",
      "max_pooling1d_3 (MaxPooling1 (None, 8, 32)             0         \n",
      "_________________________________________________________________\n",
      "conv1d_9 (Conv1D)            (None, 8, 64)             6208      \n",
      "_________________________________________________________________\n",
      "conv1d_10 (Conv1D)           (None, 8, 64)             12352     \n",
      "_________________________________________________________________\n",
      "max_pooling1d_4 (MaxPooling1 (None, 4, 64)             0         \n",
      "_________________________________________________________________\n",
      "conv1d_11 (Conv1D)           (None, 4, 128)            24704     \n",
      "_________________________________________________________________\n",
      "conv1d_12 (Conv1D)           (None, 4, 128)            49280     \n",
      "_________________________________________________________________\n",
      "max_pooling1d_5 (MaxPooling1 (None, 2, 128)            0         \n",
      "_________________________________________________________________\n",
      "flatten_1 (Flatten)          (None, 256)               0         \n",
      "_________________________________________________________________\n",
      "dense_2 (Dense)              (None, 64)                16448     \n",
      "_________________________________________________________________\n",
      "dense_3 (Dense)              (None, 8)                 520       \n",
      "=================================================================\n",
      "Total params: 114,664\n",
      "Trainable params: 114,664\n",
      "Non-trainable params: 0\n",
      "_________________________________________________________________\n"
     ]
    }
   ],
   "source": [
    "# you can see a summary of the structure and parameters of your model here\n",
    "# you must pass input shape to input_shape in the first layer of the model \n",
    "m.summary()"
   ]
  },
  {
   "cell_type": "markdown",
   "metadata": {},
   "source": [
    "### Compile the model and Fit\n",
    "Compile the model and fit it to the training data. "
   ]
  },
  {
   "cell_type": "code",
   "execution_count": 39,
   "metadata": {},
   "outputs": [
    {
     "name": "stdout",
     "output_type": "stream",
     "text": [
      "Train on 90838 samples, validate on 10000 samples\n",
      "Epoch 1/25\n",
      "90838/90838 [==============================] - 61s 670us/sample - loss: 1.2409 - accuracy: 0.5478 - val_loss: 1.3803 - val_accuracy: 0.4997\n",
      "Epoch 2/25\n",
      "90838/90838 [==============================] - 60s 655us/sample - loss: 1.2169 - accuracy: 0.5563 - val_loss: 1.2345 - val_accuracy: 0.5525\n",
      "Epoch 3/25\n",
      "90838/90838 [==============================] - 59s 655us/sample - loss: 1.2130 - accuracy: 0.5572 - val_loss: 1.2321 - val_accuracy: 0.5515\n",
      "Epoch 4/25\n",
      "90838/90838 [==============================] - 60s 662us/sample - loss: 1.2086 - accuracy: 0.5588 - val_loss: 1.2256 - val_accuracy: 0.5561\n",
      "Epoch 5/25\n",
      "90838/90838 [==============================] - 64s 701us/sample - loss: 1.2044 - accuracy: 0.5609 - val_loss: 1.2334 - val_accuracy: 0.5537\n",
      "Epoch 6/25\n",
      "90838/90838 [==============================] - 65s 712us/sample - loss: 1.2026 - accuracy: 0.5613 - val_loss: 1.2327 - val_accuracy: 0.5536\n",
      "Epoch 7/25\n",
      "90838/90838 [==============================] - 61s 675us/sample - loss: 1.1990 - accuracy: 0.5631 - val_loss: 1.2264 - val_accuracy: 0.5547\n",
      "Epoch 8/25\n",
      "90838/90838 [==============================] - 67s 739us/sample - loss: 1.1969 - accuracy: 0.5631 - val_loss: 1.2336 - val_accuracy: 0.5511\n",
      "Epoch 9/25\n",
      "90838/90838 [==============================] - 61s 674us/sample - loss: 1.1954 - accuracy: 0.5648 - val_loss: 1.2442 - val_accuracy: 0.5496\n",
      "Epoch 10/25\n",
      "90838/90838 [==============================] - 62s 677us/sample - loss: 1.1922 - accuracy: 0.5656 - val_loss: 1.2295 - val_accuracy: 0.5551\n",
      "Epoch 11/25\n",
      "90838/90838 [==============================] - 60s 661us/sample - loss: 1.1899 - accuracy: 0.5662 - val_loss: 1.2347 - val_accuracy: 0.5557\n",
      "Epoch 12/25\n",
      "90838/90838 [==============================] - 61s 672us/sample - loss: 1.1882 - accuracy: 0.5675 - val_loss: 1.2323 - val_accuracy: 0.5530\n",
      "Epoch 13/25\n",
      "90838/90838 [==============================] - 63s 690us/sample - loss: 1.1858 - accuracy: 0.5686 - val_loss: 1.2508 - val_accuracy: 0.5460\n",
      "Epoch 14/25\n",
      "90838/90838 [==============================] - 61s 670us/sample - loss: 1.1843 - accuracy: 0.5694 - val_loss: 1.2317 - val_accuracy: 0.5558\n",
      "Epoch 15/25\n",
      "90838/90838 [==============================] - 64s 703us/sample - loss: 1.1828 - accuracy: 0.5701 - val_loss: 1.2280 - val_accuracy: 0.5536\n",
      "Epoch 16/25\n",
      "90838/90838 [==============================] - 64s 706us/sample - loss: 1.1808 - accuracy: 0.5707 - val_loss: 1.2269 - val_accuracy: 0.5544\n",
      "Epoch 17/25\n",
      "90838/90838 [==============================] - 69s 763us/sample - loss: 1.1782 - accuracy: 0.5715 - val_loss: 1.2308 - val_accuracy: 0.5536\n",
      "Epoch 18/25\n",
      "90838/90838 [==============================] - 67s 741us/sample - loss: 1.1769 - accuracy: 0.5726 - val_loss: 1.2293 - val_accuracy: 0.5555\n",
      "Epoch 19/25\n",
      "90838/90838 [==============================] - 68s 754us/sample - loss: 1.1749 - accuracy: 0.5727 - val_loss: 1.2461 - val_accuracy: 0.5482\n",
      "Epoch 20/25\n",
      "90838/90838 [==============================] - 68s 744us/sample - loss: 1.1728 - accuracy: 0.5731 - val_loss: 1.2290 - val_accuracy: 0.5536\n",
      "Epoch 21/25\n",
      "90838/90838 [==============================] - 68s 750us/sample - loss: 1.1724 - accuracy: 0.5728 - val_loss: 1.2343 - val_accuracy: 0.5526\n",
      "Epoch 22/25\n",
      "90838/90838 [==============================] - 68s 754us/sample - loss: 1.1693 - accuracy: 0.5743 - val_loss: 1.2347 - val_accuracy: 0.5530\n",
      "Epoch 23/25\n",
      "90838/90838 [==============================] - 69s 762us/sample - loss: 1.1690 - accuracy: 0.5756 - val_loss: 1.2312 - val_accuracy: 0.5540\n",
      "Epoch 24/25\n",
      "90838/90838 [==============================] - 68s 753us/sample - loss: 1.1664 - accuracy: 0.5769 - val_loss: 1.2346 - val_accuracy: 0.5534\n",
      "Epoch 25/25\n",
      "90838/90838 [==============================] - 69s 756us/sample - loss: 1.1655 - accuracy: 0.5771 - val_loss: 1.2390 - val_accuracy: 0.549370  - ETA: 6s - los\n"
     ]
    }
   ],
   "source": [
    "####################################################################\n",
    "# TODO:compile your model with Adagrad optimizer.                  #\n",
    "# Use accuracy as metrics and categorical cross entropy loss       #\n",
    "# set learning rate to 0.01                                        #\n",
    "# fit the model to the train data.                                 #\n",
    "# use 10% of the data as validation                                #\n",
    "# train the model for 25 epochs and set the batch size to 256      #\n",
    "# save the result of model.fit to history variable                 #\n",
    "####################################################################\n",
    "opt = tf.keras.optimizers.Adagrad(\n",
    "    learning_rate=0.01,\n",
    "    name=\"Adagrad\"\n",
    ")\n",
    "\n",
    "m.compile(optimizer=opt,\n",
    "              loss=tf.keras.losses.CategoricalCrossentropy(),\n",
    "              metrics=['accuracy'])\n",
    "x_valid, x_train = X_train[:10000],X_train[10000:]\n",
    "y_valid, y_train = Y_train[:10000],Y_train[10000:]\n",
    "history = m.fit(x_train, y_train,\n",
    "          batch_size=256,\n",
    "          epochs=25,\n",
    "          verbose=1,\n",
    "validation_data=(x_valid, y_valid))\n",
    "\n",
    "####################################################################\n",
    "#                        End of your code                          #\n",
    "####################################################################"
   ]
  },
  {
   "cell_type": "code",
   "execution_count": 40,
   "metadata": {},
   "outputs": [
    {
     "data": {
      "image/png": "[encoded data removed]",
      "text/plain": [
       "<Figure size 432x288 with 1 Axes>"
      ]
     },
     "metadata": {
      "needs_background": "light"
     },
     "output_type": "display_data"
    },
    {
     "data": {
      "image/png": "[encoded data removed]",
      "text/plain": [
       "<Figure size 432x288 with 1 Axes>"
      ]
     },
     "metadata": {
      "needs_background": "light"
     },
     "output_type": "display_data"
    }
   ],
   "source": [
    "# you can plot the accuracy as well as loss of the model\n",
    "# on the training data and validation data in epochs\n",
    "def plot_history(history):\n",
    "    plt.plot(history.history['accuracy'], label='train')\n",
    "    plt.plot(history.history['val_accuracy'], label='validation')\n",
    "    plt.xlabel('epochs'), plt.ylabel('Model Accuracy')\n",
    "    plt.legend(), plt.show()\n",
    "    plt.figure()\n",
    "    plt.plot(history.history['loss'], label='train')\n",
    "    plt.plot(history.history['val_loss'], label='validation')\n",
    "    plt.xlabel('epochs'), plt.ylabel('Model Loss')\n",
    "    plt.legend(), plt.show()\n",
    "    \n",
    "plot_history(history)"
   ]
  },
  {
   "cell_type": "markdown",
   "metadata": {},
   "source": [
    "#### Question: what do you see in the plots?"
   ]
  },
  {
   "cell_type": "markdown",
   "metadata": {},
   "source": [
    "Train accuracy and Validation accuracy is almost increasing but the difference betweeen them is also increasing."
   ]
  },
  {
   "cell_type": "code",
   "execution_count": 41,
   "metadata": {},
   "outputs": [
    {
     "name": "stdout",
     "output_type": "stream",
     "text": [
      "17796/17796 [==============================] - 3s 194us/sample - loss: 1.2342 - accuracy: 0.5499\n",
      "[1.2342207798879585, 0.54989886]\n"
     ]
    }
   ],
   "source": [
    "####################################################################\n",
    "# TODO:evaluate the model on the test data                         #\n",
    "####################################################################\n",
    "results = m.evaluate(X_test, Y_test)\n",
    "print(results)\n",
    "####################################################################\n",
    "#                        End of your code                          #\n",
    "####################################################################"
   ]
  },
  {
   "cell_type": "markdown",
   "metadata": {},
   "source": [
    "## Regularization"
   ]
  },
  {
   "cell_type": "markdown",
   "metadata": {
    "toc-hr-collapsed": false
   },
   "source": [
    "### L2 penalty\n",
    "Build the same model as previous part but add l2 penalty to the last 2 convolution layers and the first dense layer. You are free to choose weight-decay(regularization coef)."
   ]
  },
  {
   "cell_type": "code",
   "execution_count": 42,
   "metadata": {},
   "outputs": [],
   "source": [
    "####################################################################\n",
    "# TODO: build a model with the same structure                      #\n",
    "#       add l2 penalty to last 2 conv layers and                   #\n",
    "#       the first dense layer                                      #\n",
    "####################################################################\n",
    "from tensorflow.keras import regularizers\n",
    "#Initialize all layers\n",
    "model = keras.Sequential()\n",
    "model.add(Conv1D(filters = 32,kernel_size = 3, padding='same',kernel_initializer=\"glorot_uniform\", activation='relu',input_shape=(15,21)))\n",
    "model.add(Conv1D(32, 3, padding='same',activation='relu'))\n",
    "model.add(MaxPooling1D(pool_size=2, strides=2, padding=\"same\"))\n",
    "model.add(Conv1D(filters = 64,kernel_size = 3, padding='same', activation='relu'))\n",
    "model.add(Conv1D(64, 3, padding='same', activation='relu'))\n",
    "model.add(MaxPooling1D(pool_size=2, strides=2, padding=\"same\"))\n",
    "model.add(Conv1D(filters = 128,kernel_size = 3, padding='same',kernel_regularizer=regularizers.l2(0.001),\n",
    "                activity_regularizer=regularizers.l2(0.001), activation='relu'))\n",
    "model.add(Conv1D(128, 3, padding='same',kernel_regularizer=regularizers.l2(0.001),\n",
    "                activity_regularizer=regularizers.l2(0.001), activation='relu'))\n",
    "model.add(MaxPooling1D(pool_size=2, strides=2, padding=\"same\"))\n",
    "model.add(keras.layers.Flatten())\n",
    "model.add(Dense(64, activation = 'relu',kernel_regularizer=regularizers.l2(0.001),\n",
    "                activity_regularizer=regularizers.l2(0.001)))\n",
    "model.add(Dense(8, activation = 'sigmoid'))\n",
    "####################################################################\n",
    "#                        End of your code                          #\n",
    "####################################################################"
   ]
  },
  {
   "cell_type": "code",
   "execution_count": 43,
   "metadata": {},
   "outputs": [
    {
     "name": "stdout",
     "output_type": "stream",
     "text": [
      "Train on 90838 samples, validate on 10000 samples\n",
      "Epoch 1/25\n",
      "90838/90838 [==============================] - 66s 722us/sample - loss: 2.1045 - accuracy: 0.3482 - val_loss: 1.9954 - val_accuracy: 0.3446\n",
      "Epoch 2/25\n",
      "90838/90838 [==============================] - 65s 719us/sample - loss: 1.9735 - accuracy: 0.3509 - val_loss: 1.9638 - val_accuracy: 0.3446\n",
      "Epoch 3/25\n",
      "90838/90838 [==============================] - 67s 734us/sample - loss: 1.9430 - accuracy: 0.3509 - val_loss: 1.9298 - val_accuracy: 0.3446\n",
      "Epoch 4/25\n",
      "90838/90838 [==============================] - 68s 748us/sample - loss: 1.8911 - accuracy: 0.3510 - val_loss: 1.8620 - val_accuracy: 0.3462\n",
      "Epoch 5/25\n",
      "90838/90838 [==============================] - 68s 746us/sample - loss: 1.8241 - accuracy: 0.4088 - val_loss: 1.8096 - val_accuracy: 0.4172\n",
      "Epoch 6/25\n",
      "90838/90838 [==============================] - 69s 757us/sample - loss: 1.7795 - accuracy: 0.4361 - val_loss: 1.7702 - val_accuracy: 0.4314\n",
      "Epoch 7/25\n",
      "90838/90838 [==============================] - 72s 789us/sample - loss: 1.7423 - accuracy: 0.4475 - val_loss: 1.7305 - val_accuracy: 0.4421\n",
      "Epoch 8/25\n",
      "90838/90838 [==============================] - 71s 777us/sample - loss: 1.7015 - accuracy: 0.4588 - val_loss: 1.6888 - val_accuracy: 0.4560\n",
      "Epoch 9/25\n",
      "90838/90838 [==============================] - 69s 759us/sample - loss: 1.6620 - accuracy: 0.4718 - val_loss: 1.6559 - val_accuracy: 0.4683\n",
      "Epoch 10/25\n",
      "90838/90838 [==============================] - 69s 763us/sample - loss: 1.6299 - accuracy: 0.4800 - val_loss: 1.6459 - val_accuracy: 0.4735\n",
      "Epoch 11/25\n",
      "90838/90838 [==============================] - 69s 762us/sample - loss: 1.6045 - accuracy: 0.4874 - val_loss: 1.6024 - val_accuracy: 0.4877\n",
      "Epoch 12/25\n",
      "90838/90838 [==============================] - 69s 763us/sample - loss: 1.5819 - accuracy: 0.4935 - val_loss: 1.5856 - val_accuracy: 0.4912\n",
      "Epoch 13/25\n",
      "90838/90838 [==============================] - 68s 753us/sample - loss: 1.5631 - accuracy: 0.4977 - val_loss: 1.5812 - val_accuracy: 0.4841\n",
      "Epoch 14/25\n",
      "90838/90838 [==============================] - 67s 734us/sample - loss: 1.5456 - accuracy: 0.5025 - val_loss: 1.5563 - val_accuracy: 0.4955\n",
      "Epoch 15/25\n",
      "90838/90838 [==============================] - 65s 720us/sample - loss: 1.5298 - accuracy: 0.5059 - val_loss: 1.5465 - val_accuracy: 0.4931\n",
      "Epoch 16/25\n",
      "90838/90838 [==============================] - 65s 711us/sample - loss: 1.5163 - accuracy: 0.5083 - val_loss: 1.5275 - val_accuracy: 0.5029\n",
      "Epoch 17/25\n",
      "90838/90838 [==============================] - 64s 709us/sample - loss: 1.5036 - accuracy: 0.5099 - val_loss: 1.5167 - val_accuracy: 0.5039\n",
      "Epoch 18/25\n",
      "90838/90838 [==============================] - 64s 707us/sample - loss: 1.4923 - accuracy: 0.5128 - val_loss: 1.5042 - val_accuracy: 0.5082\n",
      "Epoch 19/25\n",
      "90838/90838 [==============================] - 64s 710us/sample - loss: 1.4817 - accuracy: 0.5148 - val_loss: 1.4947 - val_accuracy: 0.5113\n",
      "Epoch 20/25\n",
      "90838/90838 [==============================] - 65s 710us/sample - loss: 1.4720 - accuracy: 0.5170 - val_loss: 1.4863 - val_accuracy: 0.5088\n",
      "Epoch 21/25\n",
      "90838/90838 [==============================] - 64s 700us/sample - loss: 1.4620 - accuracy: 0.5200 - val_loss: 1.4783 - val_accuracy: 0.5129\n",
      "Epoch 22/25\n",
      "90838/90838 [==============================] - 67s 736us/sample - loss: 1.4536 - accuracy: 0.5200 - val_loss: 1.4722 - val_accuracy: 0.5123\n",
      "Epoch 23/25\n",
      "90838/90838 [==============================] - 69s 759us/sample - loss: 1.4452 - accuracy: 0.5226 - val_loss: 1.4614 - val_accuracy: 0.5165\n",
      "Epoch 24/25\n",
      "90838/90838 [==============================] - 67s 739us/sample - loss: 1.4371 - accuracy: 0.5247 - val_loss: 1.4536 - val_accuracy: 0.5178\n",
      "Epoch 25/25\n",
      "90838/90838 [==============================] - 66s 729us/sample - loss: 1.4296 - accuracy: 0.5257 - val_loss: 1.4475 - val_accuracy: 0.5186\n"
     ]
    }
   ],
   "source": [
    "####################################################################\n",
    "# TODO:compile your model with Adagrad optimizer.                  #\n",
    "# Use accuracy as metrics and categorical cross entropy loss       #\n",
    "# set learning rate to 0.01                                        #\n",
    "# fit the model to the train data.                                 #\n",
    "# use 10% of the data as validation                                #\n",
    "# train the model for 25 epochs and set the batch size to 256      #\n",
    "# save the result of model.fit to history variable                 #\n",
    "####################################################################\n",
    "\n",
    "model.compile(optimizer=tf.keras.optimizers.Adagrad(learning_rate=0.01),\n",
    "              loss=tf.keras.losses.CategoricalCrossentropy(),\n",
    "              metrics=['accuracy'])\n",
    "history2 = model.fit(x_train, y_train,\n",
    "          batch_size=256,\n",
    "          epochs=25,\n",
    "          verbose=1,\n",
    "validation_data=(x_valid, y_valid))\n",
    "\n",
    "####################################################################\n",
    "#                        End of your code                          #\n",
    "####################################################################"
   ]
  },
  {
   "cell_type": "code",
   "execution_count": 44,
   "metadata": {},
   "outputs": [
    {
     "data": {
      "image/png": "[encoded data removed]",
      "text/plain": [
       "<Figure size 432x288 with 1 Axes>"
      ]
     },
     "metadata": {
      "needs_background": "light"
     },
     "output_type": "display_data"
    },
    {
     "data": {
      "image/png": "[encoded data removed]",
      "text/plain": [
       "<Figure size 432x288 with 1 Axes>"
      ]
     },
     "metadata": {
      "needs_background": "light"
     },
     "output_type": "display_data"
    }
   ],
   "source": [
    "# plot the accuracy and loss during training\n",
    "plot_history(history2)"
   ]
  },
  {
   "cell_type": "code",
   "execution_count": 45,
   "metadata": {},
   "outputs": [
    {
     "name": "stdout",
     "output_type": "stream",
     "text": [
      "17796/17796 [==============================] - 4s 197us/sample - loss: 1.4386 - accuracy: 0.5206\n",
      "[1.4385853981698435, 0.5205664]\n"
     ]
    }
   ],
   "source": [
    "####################################################################\n",
    "# TODO:evaluate the model on the test data                         #\n",
    "####################################################################\n",
    "results2 = model.evaluate(X_test, Y_test)\n",
    "print(results2)\n",
    "####################################################################\n",
    "#                        End of your code                          #\n",
    "####################################################################"
   ]
  },
  {
   "cell_type": "markdown",
   "metadata": {
    "toc-hr-collapsed": false
   },
   "source": [
    "### Dropout\n",
    "Add a dropout layer between the two dense layers and compare your results with the previous part."
   ]
  },
  {
   "cell_type": "code",
   "execution_count": 46,
   "metadata": {},
   "outputs": [],
   "source": [
    "####################################################################\n",
    "# TODO: build a model with the same structure                      #\n",
    "#       add a dropout layer after the first dense layer            #\n",
    "#       set the rate to 0.5                                        #\n",
    "####################################################################\n",
    "#Initialize all layers\n",
    "mm = keras.Sequential()\n",
    "\n",
    "#Initialize all layers\n",
    "mm.add(Conv1D(filters = 32,kernel_size = 3, padding='same',kernel_initializer=\"glorot_uniform\", activation='relu',input_shape=(15,21)))\n",
    "mm.add(Conv1D(32, 3, padding='same',kernel_initializer=\"glorot_uniform\", activation='relu'))\n",
    "mm.add(MaxPooling1D(pool_size=2, strides=2, padding=\"same\"))\n",
    "mm.add(Conv1D(filters = 64,kernel_size = 3, padding='same',kernel_initializer=\"glorot_uniform\", activation='relu'))\n",
    "mm.add(Conv1D(64, 3, padding='same',kernel_initializer=\"glorot_uniform\", activation='relu'))\n",
    "mm.add(MaxPooling1D(pool_size=2, strides=2, padding=\"same\"))\n",
    "mm.add(Conv1D(filters = 128,kernel_size = 3, padding='same',kernel_initializer=\"glorot_uniform\", activation='relu'))\n",
    "mm.add(Conv1D(128, 3, padding='same',kernel_initializer=\"glorot_uniform\", activation='relu'))\n",
    "mm.add(MaxPooling1D(pool_size=2, strides=2, padding=\"same\"))\n",
    "mm.add(keras.layers.Flatten())\n",
    "mm.add(Dense(64,kernel_initializer=\"glorot_uniform\", activation = 'relu'))\n",
    "mm.add(Dropout(rate=0.5))\n",
    "mm.add(Dense(8,activation = 'softmax'))\n",
    "\n",
    "\n",
    "####################################################################\n",
    "#                        End of your code                          #\n",
    "####################################################################"
   ]
  },
  {
   "cell_type": "code",
   "execution_count": 47,
   "metadata": {},
   "outputs": [
    {
     "name": "stdout",
     "output_type": "stream",
     "text": [
      "Train on 90838 samples, validate on 10000 samples\n",
      "Epoch 1/50\n",
      "90838/90838 [==============================] - 61s 674us/sample - loss: 1.7458 - accuracy: 0.3420 - val_loss: 1.6452 - val_accuracy: 0.3446\n",
      "Epoch 2/50\n",
      "90838/90838 [==============================] - 62s 677us/sample - loss: 1.6245 - accuracy: 0.3742 - val_loss: 1.5498 - val_accuracy: 0.4042\n",
      "Epoch 3/50\n",
      "90838/90838 [==============================] - 62s 685us/sample - loss: 1.5554 - accuracy: 0.4124 - val_loss: 1.5096 - val_accuracy: 0.4258\n",
      "Epoch 4/50\n",
      "90838/90838 [==============================] - 62s 682us/sample - loss: 1.5163 - accuracy: 0.4336 - val_loss: 1.4746 - val_accuracy: 0.4403\n",
      "Epoch 5/50\n",
      "90838/90838 [==============================] - 62s 687us/sample - loss: 1.4839 - accuracy: 0.4476 - val_loss: 1.4462 - val_accuracy: 0.4512\n",
      "Epoch 6/50\n",
      "90838/90838 [==============================] - 63s 696us/sample - loss: 1.4588 - accuracy: 0.4597 - val_loss: 1.4141 - val_accuracy: 0.4716\n",
      "Epoch 7/50\n",
      "90838/90838 [==============================] - 67s 743us/sample - loss: 1.4309 - accuracy: 0.4718 - val_loss: 1.3945 - val_accuracy: 0.4779\n",
      "Epoch 8/50\n",
      "90838/90838 [==============================] - 63s 694us/sample - loss: 1.4140 - accuracy: 0.4800 - val_loss: 1.3756 - val_accuracy: 0.4873\n",
      "Epoch 9/50\n",
      "90838/90838 [==============================] - 64s 705us/sample - loss: 1.3974 - accuracy: 0.4880 - val_loss: 1.3601 - val_accuracy: 0.4969\n",
      "Epoch 10/50\n",
      "90838/90838 [==============================] - 67s 733us/sample - loss: 1.3835 - accuracy: 0.4942 - val_loss: 1.3507 - val_accuracy: 0.4993\n",
      "Epoch 11/50\n",
      "90838/90838 [==============================] - 62s 687us/sample - loss: 1.3758 - accuracy: 0.4981 - val_loss: 1.3529 - val_accuracy: 0.4947\n",
      "Epoch 12/50\n",
      "90838/90838 [==============================] - 61s 673us/sample - loss: 1.3651 - accuracy: 0.5013 - val_loss: 1.3383 - val_accuracy: 0.5097\n",
      "Epoch 13/50\n",
      "90838/90838 [==============================] - 61s 666us/sample - loss: 1.3606 - accuracy: 0.5033 - val_loss: 1.3337 - val_accuracy: 0.5087\n",
      "Epoch 14/50\n",
      "90838/90838 [==============================] - 60s 664us/sample - loss: 1.3515 - accuracy: 0.5078 - val_loss: 1.3251 - val_accuracy: 0.5112\n",
      "Epoch 15/50\n",
      "90838/90838 [==============================] - 61s 668us/sample - loss: 1.3474 - accuracy: 0.5098 - val_loss: 1.3208 - val_accuracy: 0.5161\n",
      "Epoch 16/50\n",
      "90838/90838 [==============================] - 60s 664us/sample - loss: 1.3431 - accuracy: 0.5114 - val_loss: 1.3215 - val_accuracy: 0.5112\n",
      "Epoch 17/50\n",
      "90838/90838 [==============================] - 61s 672us/sample - loss: 1.3375 - accuracy: 0.5147 - val_loss: 1.3188 - val_accuracy: 0.5161\n",
      "Epoch 18/50\n",
      "90838/90838 [==============================] - 66s 730us/sample - loss: 1.3336 - accuracy: 0.5159 - val_loss: 1.3106 - val_accuracy: 0.5203\n",
      "Epoch 19/50\n",
      "90838/90838 [==============================] - 67s 743us/sample - loss: 1.3316 - accuracy: 0.5175 - val_loss: 1.3198 - val_accuracy: 0.5163\n",
      "Epoch 20/50\n",
      "90838/90838 [==============================] - 68s 743us/sample - loss: 1.3273 - accuracy: 0.5181 - val_loss: 1.3045 - val_accuracy: 0.5231\n",
      "Epoch 21/50\n",
      "90838/90838 [==============================] - 67s 737us/sample - loss: 1.3227 - accuracy: 0.5220 - val_loss: 1.3013 - val_accuracy: 0.5222\n",
      "Epoch 22/50\n",
      "90838/90838 [==============================] - 68s 745us/sample - loss: 1.3211 - accuracy: 0.5231 - val_loss: 1.3033 - val_accuracy: 0.5244\n",
      "Epoch 23/50\n",
      "90838/90838 [==============================] - 68s 745us/sample - loss: 1.3172 - accuracy: 0.5226 - val_loss: 1.2996 - val_accuracy: 0.5261\n",
      "Epoch 24/50\n",
      "90838/90838 [==============================] - 73s 806us/sample - loss: 1.3154 - accuracy: 0.5234 - val_loss: 1.2982 - val_accuracy: 0.5253\n",
      "Epoch 25/50\n",
      "90838/90838 [==============================] - 64s 708us/sample - loss: 1.3122 - accuracy: 0.5257 - val_loss: 1.2933 - val_accuracy: 0.5270\n",
      "Epoch 26/50\n",
      "90838/90838 [==============================] - 69s 761us/sample - loss: 1.3082 - accuracy: 0.5267 - val_loss: 1.2921 - val_accuracy: 0.5300\n",
      "Epoch 27/50\n",
      "90838/90838 [==============================] - 68s 750us/sample - loss: 1.3074 - accuracy: 0.5267 - val_loss: 1.2993 - val_accuracy: 0.5248\n",
      "Epoch 28/50\n",
      "90838/90838 [==============================] - 69s 754us/sample - loss: 1.3059 - accuracy: 0.5277 - val_loss: 1.2888 - val_accuracy: 0.5286\n",
      "Epoch 29/50\n",
      "90838/90838 [==============================] - 68s 753us/sample - loss: 1.3019 - accuracy: 0.5288 - val_loss: 1.2889 - val_accuracy: 0.5282\n",
      "Epoch 30/50\n",
      "90838/90838 [==============================] - 68s 753us/sample - loss: 1.3003 - accuracy: 0.5306 - val_loss: 1.2859 - val_accuracy: 0.5294\n",
      "Epoch 31/50\n",
      "90838/90838 [==============================] - 68s 754us/sample - loss: 1.2991 - accuracy: 0.5313 - val_loss: 1.2947 - val_accuracy: 0.5265\n",
      "Epoch 32/50\n",
      "90838/90838 [==============================] - 68s 748us/sample - loss: 1.2959 - accuracy: 0.5316 - val_loss: 1.2825 - val_accuracy: 0.5301\n",
      "Epoch 33/50\n",
      "90838/90838 [==============================] - 68s 751us/sample - loss: 1.2950 - accuracy: 0.5323 - val_loss: 1.2953 - val_accuracy: 0.5275\n",
      "Epoch 34/50\n",
      "90838/90838 [==============================] - 68s 749us/sample - loss: 1.2923 - accuracy: 0.5341 - val_loss: 1.2831 - val_accuracy: 0.5327\n",
      "Epoch 35/50\n",
      "90838/90838 [==============================] - 69s 762us/sample - loss: 1.2912 - accuracy: 0.5348 - val_loss: 1.2824 - val_accuracy: 0.5292\n",
      "Epoch 36/50\n",
      "90838/90838 [==============================] - 69s 759us/sample - loss: 1.2898 - accuracy: 0.5351 - val_loss: 1.2790 - val_accuracy: 0.5338\n",
      "Epoch 37/50\n",
      "90838/90838 [==============================] - 68s 751us/sample - loss: 1.2861 - accuracy: 0.5352 - val_loss: 1.2776 - val_accuracy: 0.5334\n",
      "Epoch 38/50\n",
      "90838/90838 [==============================] - 68s 750us/sample - loss: 1.2844 - accuracy: 0.5369 - val_loss: 1.2766 - val_accuracy: 0.5338\n",
      "Epoch 39/50\n",
      "90838/90838 [==============================] - 73s 802us/sample - loss: 1.2847 - accuracy: 0.5369 - val_loss: 1.2770 - val_accuracy: 0.5331\n",
      "Epoch 40/50\n",
      "90838/90838 [==============================] - 72s 798us/sample - loss: 1.2812 - accuracy: 0.5380 - val_loss: 1.2759 - val_accuracy: 0.5343\n",
      "Epoch 41/50\n",
      "90838/90838 [==============================] - 68s 751us/sample - loss: 1.2810 - accuracy: 0.5391 - val_loss: 1.2760 - val_accuracy: 0.5356\n",
      "Epoch 42/50\n",
      "90838/90838 [==============================] - 68s 752us/sample - loss: 1.2791 - accuracy: 0.5388 - val_loss: 1.2752 - val_accuracy: 0.5344\n",
      "Epoch 43/50\n",
      "90838/90838 [==============================] - 64s 708us/sample - loss: 1.2769 - accuracy: 0.5397 - val_loss: 1.2800 - val_accuracy: 0.5327\n",
      "Epoch 44/50\n",
      "90838/90838 [==============================] - 64s 701us/sample - loss: 1.2758 - accuracy: 0.5415 - val_loss: 1.2757 - val_accuracy: 0.5352\n",
      "Epoch 45/50\n",
      "90838/90838 [==============================] - 63s 693us/sample - loss: 1.2740 - accuracy: 0.5409 - val_loss: 1.2784 - val_accuracy: 0.5337\n",
      "Epoch 46/50\n",
      "90838/90838 [==============================] - 63s 691us/sample - loss: 1.2726 - accuracy: 0.5417 - val_loss: 1.2700 - val_accuracy: 0.5361\n",
      "Epoch 47/50\n",
      "90838/90838 [==============================] - 63s 690us/sample - loss: 1.2707 - accuracy: 0.5419 - val_loss: 1.2730 - val_accuracy: 0.5370\n",
      "Epoch 48/50\n",
      "90838/90838 [==============================] - 63s 691us/sample - loss: 1.2692 - accuracy: 0.5436 - val_loss: 1.2756 - val_accuracy: 0.5341\n",
      "Epoch 49/50\n",
      "90838/90838 [==============================] - 63s 688us/sample - loss: 1.2682 - accuracy: 0.5431 - val_loss: 1.2689 - val_accuracy: 0.5391\n",
      "Epoch 50/50\n",
      "90838/90838 [==============================] - 65s 720us/sample - loss: 1.2674 - accuracy: 0.5433 - val_loss: 1.2688 - val_accuracy: 0.5402\n"
     ]
    }
   ],
   "source": [
    "####################################################################\n",
    "# TODO:compile your model with Adagrad optimizer.                  #\n",
    "# Use accuracy as metrics and categorical cross entropy loss       #\n",
    "# set learning rate to 0.01                                        #\n",
    "# fit the model to the train data.                                 #\n",
    "# use 10% of the data as validation                                #\n",
    "# train the model for 50 epochs and set the batch size to 256      #\n",
    "# save the result of model.fit to history variable                 #\n",
    "####################################################################\n",
    "mm.compile(optimizer=tf.keras.optimizers.Adagrad(learning_rate=0.01),\n",
    "              loss=tf.keras.losses.CategoricalCrossentropy(),\n",
    "              metrics=['accuracy'])\n",
    "history3 = mm.fit(x_train, y_train,\n",
    "          batch_size=256,\n",
    "          epochs=50,\n",
    "          verbose=1,\n",
    "validation_data=(x_valid, y_valid))\n",
    "\n",
    "####################################################################\n",
    "#                        End of your code                          #\n",
    "####################################################################"
   ]
  },
  {
   "cell_type": "code",
   "execution_count": 48,
   "metadata": {},
   "outputs": [
    {
     "data": {
      "image/png": "[encoded data removed]",
      "text/plain": [
       "<Figure size 432x288 with 1 Axes>"
      ]
     },
     "metadata": {
      "needs_background": "light"
     },
     "output_type": "display_data"
    },
    {
     "data": {
      "image/png": "[encoded data removed]",
      "text/plain": [
       "<Figure size 432x288 with 1 Axes>"
      ]
     },
     "metadata": {
      "needs_background": "light"
     },
     "output_type": "display_data"
    }
   ],
   "source": [
    "# plot the accuracy and loss during training\n",
    "plot_history(history3)"
   ]
  },
  {
   "cell_type": "markdown",
   "metadata": {
    "toc-hr-collapsed": false
   },
   "source": [
    "#### Question: what is the result of using dropout?"
   ]
  },
  {
   "cell_type": "markdown",
   "metadata": {},
   "source": [
    "Train and Validation accuracy both increased and this time difference decreased."
   ]
  },
  {
   "cell_type": "code",
   "execution_count": 49,
   "metadata": {},
   "outputs": [
    {
     "name": "stdout",
     "output_type": "stream",
     "text": [
      "17796/17796 [==============================] - 3s 184us/sample - loss: 1.2617 - accuracy: 0.5409\n",
      "[1.2617280158762934, 0.5408519]\n"
     ]
    }
   ],
   "source": [
    "####################################################################\n",
    "# TODO:evaluate the model on the test data                         #\n",
    "####################################################################\n",
    "results3 = mm.evaluate(X_test, Y_test)\n",
    "print(results3)\n",
    "####################################################################\n",
    "#                        End of your code                          #\n",
    "####################################################################"
   ]
  }
 ],
 "metadata": {
  "kernelspec": {
   "display_name": "Python 3",
   "language": "python",
   "name": "python3"
  },
  "language_info": {
   "codemirror_mode": {
    "name": "ipython",
    "version": 3
   },
   "file_extension": ".py",
   "mimetype": "text/x-python",
   "name": "python",
   "nbconvert_exporter": "python",
   "pygments_lexer": "ipython3",
   "version": "3.7.4"
  }
 },
 "nbformat": 4,
 "nbformat_minor": 2
}
