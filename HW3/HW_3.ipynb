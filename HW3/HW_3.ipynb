{
 "cells": [
  {
   "cell_type": "code",
   "execution_count": 1,
   "metadata": {},
   "outputs": [],
   "source": [
    "import numpy as np\n",
    "import pandas as pd\n",
    "import matplotlib.pyplot as plt\n",
    "import seaborn as sns"
   ]
  },
  {
   "cell_type": "code",
   "execution_count": 2,
   "metadata": {},
   "outputs": [],
   "source": [
    "import os"
   ]
  },
  {
   "cell_type": "code",
   "execution_count": 3,
   "metadata": {},
   "outputs": [],
   "source": [
    "def prepro(z):\n",
    "    prot = pd.DataFrame(columns=['aa','struct'])\n",
    "    if(z.shape[0]>0):\n",
    "        current = z['Structure'][0]\n",
    "        c = 0\n",
    "        s = ''\n",
    "        for i in z.index:\n",
    "            if(z['Structure'][i]==current):\n",
    "                c = c+1\n",
    "                s = s+z['AA'][i]\n",
    "            else:\n",
    "                if(c==7):\n",
    "                    prot = prot.append({'aa':s,'struct':current}, ignore_index=True)\n",
    "                s = z['AA'][i]\n",
    "                c = 1\n",
    "                current = z['Structure'][i]\n",
    "    return prot"
   ]
  },
  {
   "cell_type": "code",
   "execution_count": 4,
   "metadata": {},
   "outputs": [],
   "source": [
    "#Read Data\n",
    "df = pd.DataFrame(columns=['aa','struct'])\n",
    "for infile in os.listdir(\"~/data/HW3/DSSP\"):\n",
    "    adrs = '~/data/HW3/DSSP/' + infile\n",
    "    dff = pd.read_csv(adrs,' ')\n",
    "    dfff = prepro(dff)\n",
    "    df = df.append(dfff)"
   ]
  },
  {
   "cell_type": "code",
   "execution_count": 5,
   "metadata": {},
   "outputs": [],
   "source": [
    "# dums = pd.get_dummies(df['struct'])\n",
    "dums = pd.get_dummies(df['aa'])"
   ]
  },
  {
   "cell_type": "code",
   "execution_count": 10,
   "metadata": {},
   "outputs": [],
   "source": [
    "data = pd.concat([df,dums],axis=1)"
   ]
  },
  {
   "cell_type": "code",
   "execution_count": 11,
   "metadata": {},
   "outputs": [],
   "source": [
    "data = data.drop(['aa'],axis=1)"
   ]
  },
  {
   "cell_type": "code",
   "execution_count": 12,
   "metadata": {},
   "outputs": [
    {
     "data": {
      "text/html": [
       "<div>\n",
       "<style scoped>\n",
       "    .dataframe tbody tr th:only-of-type {\n",
       "        vertical-align: middle;\n",
       "    }\n",
       "\n",
       "    .dataframe tbody tr th {\n",
       "        vertical-align: top;\n",
       "    }\n",
       "\n",
       "    .dataframe thead th {\n",
       "        text-align: right;\n",
       "    }\n",
       "</style>\n",
       "<table border=\"1\" class=\"dataframe\">\n",
       "  <thead>\n",
       "    <tr style=\"text-align: right;\">\n",
       "      <th></th>\n",
       "      <th>struct</th>\n",
       "      <th>AAAAALA</th>\n",
       "      <th>AAAAKAG</th>\n",
       "      <th>AAAFGNV</th>\n",
       "      <th>AAALRQA</th>\n",
       "      <th>AADLAKL</th>\n",
       "      <th>AAEAEKL</th>\n",
       "      <th>AAEHYKA</th>\n",
       "      <th>AAEIAHT</th>\n",
       "      <th>AAELMQE</th>\n",
       "      <th>...</th>\n",
       "      <th>dAPcTMQ</th>\n",
       "      <th>dFSVQAV</th>\n",
       "      <th>dGVGGSD</th>\n",
       "      <th>eTFGDPI</th>\n",
       "      <th>edEKVNK</th>\n",
       "      <th>hgEKVNK</th>\n",
       "      <th>iGVGGSD</th>\n",
       "      <th>kjEKVNK</th>\n",
       "      <th>mLWLSWK</th>\n",
       "      <th>nFSVQAV</th>\n",
       "    </tr>\n",
       "  </thead>\n",
       "  <tbody>\n",
       "    <tr>\n",
       "      <td>0</td>\n",
       "      <td>H</td>\n",
       "      <td>0</td>\n",
       "      <td>0</td>\n",
       "      <td>0</td>\n",
       "      <td>0</td>\n",
       "      <td>0</td>\n",
       "      <td>0</td>\n",
       "      <td>0</td>\n",
       "      <td>0</td>\n",
       "      <td>0</td>\n",
       "      <td>...</td>\n",
       "      <td>0</td>\n",
       "      <td>0</td>\n",
       "      <td>0</td>\n",
       "      <td>0</td>\n",
       "      <td>0</td>\n",
       "      <td>0</td>\n",
       "      <td>0</td>\n",
       "      <td>0</td>\n",
       "      <td>0</td>\n",
       "      <td>0</td>\n",
       "    </tr>\n",
       "    <tr>\n",
       "      <td>0</td>\n",
       "      <td>H</td>\n",
       "      <td>0</td>\n",
       "      <td>0</td>\n",
       "      <td>0</td>\n",
       "      <td>0</td>\n",
       "      <td>0</td>\n",
       "      <td>0</td>\n",
       "      <td>0</td>\n",
       "      <td>0</td>\n",
       "      <td>0</td>\n",
       "      <td>...</td>\n",
       "      <td>0</td>\n",
       "      <td>0</td>\n",
       "      <td>0</td>\n",
       "      <td>0</td>\n",
       "      <td>0</td>\n",
       "      <td>0</td>\n",
       "      <td>0</td>\n",
       "      <td>0</td>\n",
       "      <td>0</td>\n",
       "      <td>0</td>\n",
       "    </tr>\n",
       "    <tr>\n",
       "      <td>1</td>\n",
       "      <td>H</td>\n",
       "      <td>0</td>\n",
       "      <td>0</td>\n",
       "      <td>0</td>\n",
       "      <td>0</td>\n",
       "      <td>0</td>\n",
       "      <td>0</td>\n",
       "      <td>0</td>\n",
       "      <td>0</td>\n",
       "      <td>0</td>\n",
       "      <td>...</td>\n",
       "      <td>0</td>\n",
       "      <td>0</td>\n",
       "      <td>0</td>\n",
       "      <td>0</td>\n",
       "      <td>0</td>\n",
       "      <td>0</td>\n",
       "      <td>0</td>\n",
       "      <td>0</td>\n",
       "      <td>0</td>\n",
       "      <td>0</td>\n",
       "    </tr>\n",
       "    <tr>\n",
       "      <td>0</td>\n",
       "      <td>T</td>\n",
       "      <td>0</td>\n",
       "      <td>0</td>\n",
       "      <td>0</td>\n",
       "      <td>0</td>\n",
       "      <td>0</td>\n",
       "      <td>0</td>\n",
       "      <td>0</td>\n",
       "      <td>0</td>\n",
       "      <td>0</td>\n",
       "      <td>...</td>\n",
       "      <td>0</td>\n",
       "      <td>0</td>\n",
       "      <td>0</td>\n",
       "      <td>0</td>\n",
       "      <td>0</td>\n",
       "      <td>0</td>\n",
       "      <td>0</td>\n",
       "      <td>0</td>\n",
       "      <td>0</td>\n",
       "      <td>0</td>\n",
       "    </tr>\n",
       "    <tr>\n",
       "      <td>0</td>\n",
       "      <td>H</td>\n",
       "      <td>0</td>\n",
       "      <td>0</td>\n",
       "      <td>0</td>\n",
       "      <td>0</td>\n",
       "      <td>0</td>\n",
       "      <td>0</td>\n",
       "      <td>0</td>\n",
       "      <td>0</td>\n",
       "      <td>0</td>\n",
       "      <td>...</td>\n",
       "      <td>0</td>\n",
       "      <td>0</td>\n",
       "      <td>0</td>\n",
       "      <td>0</td>\n",
       "      <td>0</td>\n",
       "      <td>0</td>\n",
       "      <td>0</td>\n",
       "      <td>0</td>\n",
       "      <td>0</td>\n",
       "      <td>0</td>\n",
       "    </tr>\n",
       "  </tbody>\n",
       "</table>\n",
       "<p>5 rows × 5094 columns</p>\n",
       "</div>"
      ],
      "text/plain": [
       "  struct  AAAAALA  AAAAKAG  AAAFGNV  AAALRQA  AADLAKL  AAEAEKL  AAEHYKA  \\\n",
       "0      H        0        0        0        0        0        0        0   \n",
       "0      H        0        0        0        0        0        0        0   \n",
       "1      H        0        0        0        0        0        0        0   \n",
       "0      T        0        0        0        0        0        0        0   \n",
       "0      H        0        0        0        0        0        0        0   \n",
       "\n",
       "   AAEIAHT  AAELMQE  ...  dAPcTMQ  dFSVQAV  dGVGGSD  eTFGDPI  edEKVNK  \\\n",
       "0        0        0  ...        0        0        0        0        0   \n",
       "0        0        0  ...        0        0        0        0        0   \n",
       "1        0        0  ...        0        0        0        0        0   \n",
       "0        0        0  ...        0        0        0        0        0   \n",
       "0        0        0  ...        0        0        0        0        0   \n",
       "\n",
       "   hgEKVNK  iGVGGSD  kjEKVNK  mLWLSWK  nFSVQAV  \n",
       "0        0        0        0        0        0  \n",
       "0        0        0        0        0        0  \n",
       "1        0        0        0        0        0  \n",
       "0        0        0        0        0        0  \n",
       "0        0        0        0        0        0  \n",
       "\n",
       "[5 rows x 5094 columns]"
      ]
     },
     "execution_count": 12,
     "metadata": {},
     "output_type": "execute_result"
    }
   ],
   "source": [
    "data.head()"
   ]
  },
  {
   "cell_type": "code",
   "execution_count": 13,
   "metadata": {},
   "outputs": [],
   "source": [
    "#train_test_split\n",
    "from sklearn.model_selection import train_test_split"
   ]
  },
  {
   "cell_type": "code",
   "execution_count": 18,
   "metadata": {},
   "outputs": [],
   "source": [
    "y = data['struct']\n",
    "X = data.drop('struct',axis=1)\n",
    "X_train,X_test,y_train,y_test = train_test_split(X,y,test_size=0.3)"
   ]
  },
  {
   "cell_type": "code",
   "execution_count": 15,
   "metadata": {},
   "outputs": [],
   "source": [
    "from sklearn.ensemble import RandomForestClassifier"
   ]
  },
  {
   "cell_type": "code",
   "execution_count": 16,
   "metadata": {},
   "outputs": [],
   "source": [
    "rfc = RandomForestClassifier(n_estimators=200)"
   ]
  },
  {
   "cell_type": "code",
   "execution_count": 19,
   "metadata": {},
   "outputs": [
    {
     "data": {
      "text/plain": [
       "RandomForestClassifier(bootstrap=True, class_weight=None, criterion='gini',\n",
       "                       max_depth=None, max_features='auto', max_leaf_nodes=None,\n",
       "                       min_impurity_decrease=0.0, min_impurity_split=None,\n",
       "                       min_samples_leaf=1, min_samples_split=2,\n",
       "                       min_weight_fraction_leaf=0.0, n_estimators=200,\n",
       "                       n_jobs=None, oob_score=False, random_state=None,\n",
       "                       verbose=0, warm_start=False)"
      ]
     },
     "execution_count": 19,
     "metadata": {},
     "output_type": "execute_result"
    }
   ],
   "source": [
    "rfc.fit(X_train,y_train)"
   ]
  },
  {
   "cell_type": "code",
   "execution_count": 20,
   "metadata": {},
   "outputs": [],
   "source": [
    "rfc_pred = rfc.predict(X_test)"
   ]
  },
  {
   "cell_type": "code",
   "execution_count": 25,
   "metadata": {},
   "outputs": [],
   "source": [
    "from sklearn.metrics import confusion_matrix,accuracy_score,recall_score"
   ]
  },
  {
   "cell_type": "code",
   "execution_count": 28,
   "metadata": {},
   "outputs": [
    {
     "name": "stdout",
     "output_type": "stream",
     "text": [
      "[[2647    0    0    0    0    0]\n",
      " [  18   35    0    0    0    1]\n",
      " [ 336    0  971    0    0    0]\n",
      " [   6    0    0    4    0    0]\n",
      " [  67    0    0    0   47    0]\n",
      " [  53    0    0    0    0   83]]\n",
      "\n",
      "\n",
      "0.8873008434864105\n",
      "\n",
      " recall_score:\n",
      "micro:  0.8873008434864105\n",
      "macro:  0.6356076152240905\n",
      "weighted:  0.8873008434864105\n",
      "none:  [1.         0.64814815 0.74292272 0.4        0.4122807  0.61029412]\n"
     ]
    }
   ],
   "source": [
    "print(confusion_matrix(y_test,rfc_pred))\n",
    "print('\\n')\n",
    "# print(confusion_matrix(X_test,rfc_pred))\n",
    "print(accuracy_score(y_test,rfc_pred))\n",
    "print('\\n recall_score:')\n",
    "print('micro: ',recall_score(y_test,rfc_pred,average='micro'))\n",
    "print('macro: ',recall_score(y_test,rfc_pred,average='macro'))\n",
    "print('weighted: ',recall_score(y_test,rfc_pred,average='weighted'))\n",
    "print('none: ',recall_score(y_test,rfc_pred,average=None))"
   ]
  },
  {
   "cell_type": "code",
   "execution_count": 29,
   "metadata": {},
   "outputs": [],
   "source": [
    "from sklearn.neural_network import MLPClassifier"
   ]
  },
  {
   "cell_type": "code",
   "execution_count": 30,
   "metadata": {},
   "outputs": [
    {
     "data": {
      "text/plain": [
       "array([[7.99053498e-04, 1.52808106e-04, 9.98577207e-01, 7.97510960e-05,\n",
       "        1.44345862e-04, 2.46834040e-04],\n",
       "       [9.99535577e-01, 5.37390705e-05, 1.95029219e-04, 7.59938145e-05,\n",
       "        9.02951315e-05, 4.93661973e-05],\n",
       "       [1.30357190e-04, 5.54175424e-05, 9.99688531e-01, 2.11920101e-05,\n",
       "        3.41837904e-05, 7.03181406e-05],\n",
       "       ...,\n",
       "       [9.99703303e-01, 4.45745385e-05, 1.06673912e-04, 5.11140356e-05,\n",
       "        6.58040630e-05, 2.85302079e-05],\n",
       "       [5.63559816e-05, 3.56656571e-05, 9.99842580e-01, 1.23977767e-05,\n",
       "        2.24831041e-05, 3.05176031e-05],\n",
       "       [9.99556593e-01, 5.21958262e-05, 1.63919605e-04, 7.89449439e-05,\n",
       "        1.00919197e-04, 4.74271064e-05]])"
      ]
     },
     "execution_count": 30,
     "metadata": {},
     "output_type": "execute_result"
    }
   ],
   "source": [
    "clf = MLPClassifier(random_state=1, max_iter=300).fit(X_train, y_train)\n",
    "clf.predict_proba(X_test)"
   ]
  },
  {
   "cell_type": "code",
   "execution_count": 31,
   "metadata": {},
   "outputs": [],
   "source": [
    "clf_pred = clf.predict(X_test)"
   ]
  },
  {
   "cell_type": "code",
   "execution_count": 32,
   "metadata": {},
   "outputs": [],
   "source": [
    "clf_score = clf.score(X_test, y_test)"
   ]
  },
  {
   "cell_type": "code",
   "execution_count": 33,
   "metadata": {},
   "outputs": [
    {
     "name": "stdout",
     "output_type": "stream",
     "text": [
      "[[2647    0    0    0    0    0]\n",
      " [  18   35    0    0    0    1]\n",
      " [ 336    0  971    0    0    0]\n",
      " [   6    0    0    4    0    0]\n",
      " [  67    0    0    0   47    0]\n",
      " [  53    0    0    0    0   83]]\n",
      "\n",
      "\n",
      "0.8873008434864105\n",
      "\n",
      " recall_score:\n",
      "micro:  0.8873008434864105\n",
      "macro:  0.6356076152240905\n",
      "weighted:  0.8873008434864105\n",
      "none:  [1.         0.64814815 0.74292272 0.4        0.4122807  0.61029412]\n",
      "clf_score:  0.8873008434864105\n"
     ]
    }
   ],
   "source": [
    "print(confusion_matrix(y_test,clf_pred))\n",
    "print('\\n')\n",
    "# print(confusion_matrix(X_test,rfc_pred))\n",
    "print(accuracy_score(y_test,clf_pred))\n",
    "print('\\n recall_score:')\n",
    "print('micro: ',recall_score(y_test,clf_pred,average='micro'))\n",
    "print('macro: ',recall_score(y_test,clf_pred,average='macro'))\n",
    "print('weighted: ',recall_score(y_test,clf_pred,average='weighted'))\n",
    "print('none: ',recall_score(y_test,clf_pred,average=None))\n",
    "print('clf_score: ', clf_score)"
   ]
  },
  {
   "cell_type": "code",
   "execution_count": null,
   "metadata": {},
   "outputs": [],
   "source": [
    "\"\"\"\n",
    "for better results we should set parameters manually, and choose best one.\n",
    "another point is way coding strings. if order isn't important,\n",
    "it's better to add at most 2*26 columns instead of ~5000!\n",
    "\"\"\""
   ]
  }
 ],
 "metadata": {
  "kernelspec": {
   "display_name": "Python 3",
   "language": "python",
   "name": "python3"
  },
  "language_info": {
   "codemirror_mode": {
    "name": "ipython",
    "version": 3
   },
   "file_extension": ".py",
   "mimetype": "text/x-python",
   "name": "python",
   "nbconvert_exporter": "python",
   "pygments_lexer": "ipython3",
   "version": "3.7.4"
  }
 },
 "nbformat": 4,
 "nbformat_minor": 2
}
